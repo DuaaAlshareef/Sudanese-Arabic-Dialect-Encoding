{
  "cells": [
    {
      "cell_type": "code",
      "execution_count": null,
      "metadata": {
        "id": "x4a1PnnsBvNt"
      },
      "outputs": [],
      "source": [
        "!pip install wandb"
      ]
    },
    {
      "cell_type": "code",
      "execution_count": null,
      "metadata": {
        "id": "wP3jsjeYCtvR"
      },
      "outputs": [],
      "source": [
        "import wandb\n",
        "wandb.login()"
      ]
    },
    {
      "cell_type": "code",
      "execution_count": null,
      "metadata": {
        "id": "GdY_rQenbyP7"
      },
      "outputs": [],
      "source": [
        "!pip install datasets evaluate transformers[sentencepiece]\n",
        "!pip install transformers==4.17"
      ]
    },
    {
      "cell_type": "code",
      "execution_count": null,
      "metadata": {
        "id": "3adMajUEkAiu"
      },
      "outputs": [],
      "source": [
        "from google.colab import drive\n",
        "drive.mount('/content/drive')"
      ]
    },
    {
      "cell_type": "code",
      "execution_count": null,
      "metadata": {
        "id": "Stsrhq6Pb4sK"
      },
      "outputs": [],
      "source": [
        "from datasets import load_dataset, load_metric\n",
        "from transformers import AutoTokenizer, DataCollatorWithPadding, TrainingArguments, AutoModelForSequenceClassification, Trainer\n",
        "import evaluate\n",
        "import numpy as np\n",
        "from sklearn.metrics import confusion_matrix"
      ]
    },
    {
      "cell_type": "code",
      "execution_count": null,
      "metadata": {
        "id": "gzKnzqqlkHaf"
      },
      "outputs": [],
      "source": [
        "our_dataset=load_dataset(\"arbml/BRAD\")\n",
        "our_dataset"
      ]
    },
    {
      "cell_type": "code",
      "execution_count": null,
      "metadata": {
        "id": "N3G4HcZThcK-"
      },
      "outputs": [],
      "source": [
        "our_dataset = our_dataset.shuffle(seed = 42)\n",
        "our_dataset = our_dataset[\"train\"].select(range(11000))\n",
        "our_dataset"
      ]
    },
    {
      "cell_type": "code",
      "execution_count": null,
      "metadata": {
        "id": "zL3n1zfKnVah"
      },
      "outputs": [],
      "source": [
        "our_dataset=our_dataset.train_test_split(test_size=.2)\n",
        "our_dataset"
      ]
    },
    {
      "cell_type": "code",
      "execution_count": null,
      "metadata": {
        "id": "eFmFUdclmoli"
      },
      "outputs": [],
      "source": [
        "our_dataset = our_dataset .filter(lambda x : len(x[\"review\"]) < 513)\n",
        "our_dataset"
      ]
    },
    {
      "cell_type": "code",
      "execution_count": null,
      "metadata": {
        "id": "Erj64_dJqWXd"
      },
      "outputs": [],
      "source": [
        "# our_dataset = our_dataset.rename_column(\"labels\", \"label\")"
      ]
    },
    {
      "cell_type": "code",
      "execution_count": null,
      "metadata": {
        "id": "YdzhsPzmwmzk"
      },
      "outputs": [],
      "source": [
        "set(our_dataset['train'][\"label\"])"
      ]
    },
    {
      "cell_type": "code",
      "execution_count": null,
      "metadata": {
        "id": "CMJ46CwgkXWJ"
      },
      "outputs": [],
      "source": [
        "#our_dataset = our_dataset.filter(lambda x : x[\"label\"] in [0,1,3,4])\n",
        "#our_dataset"
      ]
    },
    {
      "cell_type": "code",
      "execution_count": null,
      "metadata": {
        "id": "f_DXK5-NkZch"
      },
      "outputs": [],
      "source": [
        "def change_labels(example):\n",
        "  return { \"labels\" : 0 if example[\"label\"] in [0,1]  else 1 if example[\"label\"] in [2] else 2}\n",
        "\n",
        "our_dataset = our_dataset.map(change_labels )\n",
        "our_dataset"
      ]
    },
    {
      "cell_type": "code",
      "execution_count": null,
      "metadata": {
        "id": "MCUvdCcgIn3q"
      },
      "outputs": [],
      "source": [
        "set(our_dataset['train'][\"labels\"])"
      ]
    },
    {
      "cell_type": "code",
      "execution_count": null,
      "metadata": {
        "id": "9fXgnP5Kkq8G"
      },
      "outputs": [],
      "source": [
        "#our_dataset = our_dataset.shuffle(seed = 42)\n",
        "our_dataset = our_dataset.remove_columns([\"review_id\",\"book_id\",\"user_id\",\"label\"])\n",
        "our_dataset"
      ]
    },
    {
      "cell_type": "code",
      "execution_count": null,
      "metadata": {
        "id": "TBVhnxw8k0Yd"
      },
      "outputs": [],
      "source": [
        "checkpoint = \"xlm-roberta-base\"\n",
        "tokenizer = AutoTokenizer.from_pretrained(checkpoint)\n",
        "\n",
        "\n",
        "\n",
        "\n",
        "def tokenize_function(example):\n",
        "    return tokenizer(example[\"review\"], truncation=True)\n",
        "\n",
        "tokenized_dataset = our_dataset.map(tokenize_function, batched = True)\n",
        "\n",
        "data_collator = DataCollatorWithPadding(tokenizer=tokenizer)\n",
        "tokenized_dataset"
      ]
    },
    {
      "cell_type": "code",
      "execution_count": null,
      "metadata": {
        "id": "eP2Rv9bZllmk"
      },
      "outputs": [],
      "source": [
        "checkpoint_path = \"/content/drive/MyDrive/checkpoint-205500\"\n",
        "model = AutoModelForSequenceClassification.from_pretrained(checkpoint_path, num_labels = 3)"
      ]
    },
    {
      "cell_type": "code",
      "execution_count": null,
      "metadata": {
        "id": "k3__mF8nj6eL"
      },
      "outputs": [],
      "source": [
        "def compute_metrics(eval_preds):\n",
        "    accuracy_metric = load_metric(\"accuracy\")\n",
        "    f1_metric = load_metric(\"f1\")\n",
        "    logits, labels = eval_preds\n",
        "    predictions = np.argmax(logits, axis=-1)\n",
        "    accuracy = accuracy_metric.compute(predictions=predictions, references=labels)\n",
        "    f1 = f1_metric.compute(predictions=predictions, references=labels, average=\"weighted\")\n",
        "    # confusion = confusion_matrix(labels, predictions)\n",
        "    # cfm_metric = evaluate.load(\"BucketHeadP65/confusion_matrix\")\n",
        "    # confusion = cfm_metric.compute(references=labels, predictions=predictions)\n",
        "\n",
        "    return {\n",
        "        \"accuracy\": accuracy,\n",
        "        \"f1_score\": f1,\n",
        "        # \"Confusion matrix\": confusion,\n",
        "    }"
      ]
    },
    {
      "cell_type": "code",
      "execution_count": null,
      "metadata": {
        "id": "gkIzz8oal9XS"
      },
      "outputs": [],
      "source": [
        "training_args = TrainingArguments(\"/content/drive/MyDrive/checkpoints/taiseer\",\n",
        "                                  evaluation_strategy=\"epoch\",\n",
        "                                  per_device_train_batch_size= 16,\n",
        "                                  per_device_eval_batch_size=16,\n",
        "                                  overwrite_output_dir=True,\n",
        "                                  save_steps=496,\n",
        "                                  save_total_limit=1,\n",
        "                                  report_to=\"wandb\"\n",
        "\n",
        "\n",
        "                                  )"
      ]
    },
    {
      "cell_type": "code",
      "execution_count": null,
      "metadata": {
        "id": "1ijF_o4EmIhM"
      },
      "outputs": [],
      "source": [
        "trainer = Trainer(\n",
        "    model,\n",
        "    training_args,\n",
        "    train_dataset=tokenized_dataset[\"train\"],\n",
        "    eval_dataset=tokenized_dataset[\"test\"],\n",
        "    data_collator=data_collator,\n",
        "    tokenizer=tokenizer,\n",
        "    compute_metrics=compute_metrics,)"
      ]
    },
    {
      "cell_type": "code",
      "execution_count": null,
      "metadata": {
        "colab": {
          "background_save": true
        },
        "id": "yCcPbVIWmexy"
      },
      "outputs": [],
      "source": [
        "trainer.train()"
      ]
    }
  ],
  "metadata": {
    "accelerator": "GPU",
    "colab": {
      "provenance": []
    },
    "kernelspec": {
      "display_name": "Python 3",
      "name": "python3"
    },
    "language_info": {
      "name": "python"
    }
  },
  "nbformat": 4,
  "nbformat_minor": 0
}